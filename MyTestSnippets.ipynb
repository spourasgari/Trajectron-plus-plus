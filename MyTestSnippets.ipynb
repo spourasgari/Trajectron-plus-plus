{
 "cells": [
  {
   "cell_type": "markdown",
   "metadata": {},
   "source": [
    "# Show inside pickle"
   ]
  },
  {
   "cell_type": "code",
   "execution_count": 1,
   "metadata": {},
   "outputs": [
    {
     "name": "stdout",
     "output_type": "stream",
     "text": [
      "NodeType\n",
      "NodeType: [PEDESTRIAN]\n",
      "_scenes_resample_prop\n",
      "_scenes_resample_prop: None\n",
      "attention_radius\n",
      "attention_radius: {(PEDESTRIAN, PEDESTRIAN): 3.0}\n",
      "get_edge_types\n",
      "get_edge_types: <bound method Environment.get_edge_types of <environment.environment.Environment object at 0x7f1c29f1db38>>\n",
      "get_standardize_params\n",
      "get_standardize_params: <bound method Environment.get_standardize_params of <environment.environment.Environment object at 0x7f1c29f1db38>>\n",
      "node_type_list\n",
      "node_type_list: ['PEDESTRIAN']\n",
      "robot_type\n",
      "robot_type: None\n",
      "scenes\n",
      "scenes: [Scene: Duration: 284.40000000000003s, Nodes: 125, Map: No., Scene: Duration: 172.8s, Nodes: 364, Map: No., Scene: Duration: 336.40000000000003s, Nodes: 171, Map: No., Scene: Duration: 142.0s, Nodes: 373, Map: No., Scene: Duration: 576.0s, Nodes: 310, Map: No., Scene: Duration: 241.20000000000002s, Nodes: 105, Map: No., Scene: Duration: 237.60000000000002s, Nodes: 96, Map: No.]\n",
      "scenes_resample_prop\n",
      "standardization\n",
      "standardization: {'PEDESTRIAN': {'position': {'x': {'mean': 0, 'std': 1}, 'y': {'mean': 0, 'std': 1}}, 'velocity': {'x': {'mean': 0, 'std': 2}, 'y': {'mean': 0, 'std': 2}}, 'acceleration': {'x': {'mean': 0, 'std': 1}, 'y': {'mean': 0, 'std': 1}}}}\n",
      "standardize\n",
      "standardize: <bound method Environment.standardize of <environment.environment.Environment object at 0x7f1c29f1db38>>\n",
      "standardize_param_memo\n",
      "standardize_param_memo: {}\n",
      "unstandardize\n",
      "unstandardize: <bound method Environment.unstandardize of <environment.environment.Environment object at 0x7f1c29f1db38>>\n"
     ]
    }
   ],
   "source": [
    "import dill as pickle\n",
    "import sys\n",
    "sys.path.append(\"/home/sina/env_prediction_project/Trajectron-plus-plus/trajectron\")\n",
    "\n",
    "# Open and load the .pkl file\n",
    "with open(\"/home/sina/env_prediction_project/Trajectron-plus-plus/experiments/processed/eth_train.pkl\", \"rb\") as file:\n",
    "    data = pickle.load(file)\n",
    "\n",
    "# Print the attributes of the data object\n",
    "for attribute in dir(data):\n",
    "    if not attribute.startswith('__'):\n",
    "        print(attribute)\n",
    "        try:\n",
    "            value = getattr(data, attribute)\n",
    "            print(f\"{attribute}: {value}\")\n",
    "        except:\n",
    "            None"
   ]
  },
  {
   "cell_type": "markdown",
   "metadata": {},
   "source": [
    "# Show inside pytorch model"
   ]
  },
  {
   "cell_type": "code",
   "execution_count": null,
   "metadata": {},
   "outputs": [
    {
     "name": "stdout",
     "output_type": "stream",
     "text": [
      "<class 'torch.nn.modules.container.ModuleDict'>\n",
      "Module name: PEDESTRIAN/node_history_encoder\n",
      "LSTM(6, 32, batch_first=True)\n",
      "Module name: PEDESTRIAN/node_future_encoder\n",
      "LSTM(2, 32, batch_first=True, bidirectional=True)\n",
      "Module name: PEDESTRIAN/node_future_encoder/initial_h\n",
      "Linear(in_features=6, out_features=32, bias=True)\n",
      "Module name: PEDESTRIAN/node_future_encoder/initial_c\n",
      "Linear(in_features=6, out_features=32, bias=True)\n",
      "Module name: PEDESTRIAN/edge_influence_encoder\n",
      "AdditiveAttention(\n",
      "  (w1): Linear(in_features=32, out_features=32, bias=False)\n",
      "  (w2): Linear(in_features=32, out_features=32, bias=False)\n",
      "  (v): Linear(in_features=32, out_features=1, bias=False)\n",
      ")\n",
      "Module name: PEDESTRIAN/p_z_x\n",
      "Linear(in_features=64, out_features=32, bias=True)\n",
      "Module name: PEDESTRIAN/hx_to_z\n",
      "Linear(in_features=32, out_features=25, bias=True)\n",
      "Module name: PEDESTRIAN/hxy_to_z\n",
      "Linear(in_features=192, out_features=25, bias=True)\n",
      "Module name: PEDESTRIAN/decoder/state_action\n",
      "Sequential(\n",
      "  (0): Linear(in_features=6, out_features=2, bias=True)\n",
      ")\n",
      "Module name: PEDESTRIAN/decoder/rnn_cell\n",
      "GRUCell(91, 128)\n",
      "Module name: PEDESTRIAN/decoder/initial_h\n",
      "Linear(in_features=89, out_features=128, bias=True)\n",
      "Module name: PEDESTRIAN/decoder/proj_to_GMM_log_pis\n",
      "Linear(in_features=128, out_features=1, bias=True)\n",
      "Module name: PEDESTRIAN/decoder/proj_to_GMM_mus\n",
      "Linear(in_features=128, out_features=2, bias=True)\n",
      "Module name: PEDESTRIAN/decoder/proj_to_GMM_log_sigmas\n",
      "Linear(in_features=128, out_features=2, bias=True)\n",
      "Module name: PEDESTRIAN/decoder/proj_to_GMM_corrs\n",
      "Linear(in_features=128, out_features=1, bias=True)\n",
      "Module name: PEDESTRIAN->PEDESTRIAN/edge_encoder\n",
      "LSTM(12, 32, batch_first=True)\n"
     ]
    }
   ],
   "source": [
    "import torch\n",
    "\n",
    "model_data = torch.load(\"/home/sina/env_prediction_project/Trajectron-plus-plus/experiments/pedestrians/models/models_06_Mar_2025_15_57_30_eth_vel_ar3/model_registrar-32.pt\")\n",
    "print(type(model_data))\n",
    "\n",
    "for name, module in model_data.items():\n",
    "    print(f\"Module name: {name}\")\n",
    "    print(module)"
   ]
  },
  {
   "cell_type": "markdown",
   "metadata": {},
   "source": [
    "# Graphically view inside .pt file"
   ]
  },
  {
   "cell_type": "code",
   "execution_count": 12,
   "metadata": {},
   "outputs": [
    {
     "name": "stdout",
     "output_type": "stream",
     "text": [
      "Requirement already satisfied: netron in /home/sina/miniconda3/envs/trajectron++/lib/python3.6/site-packages (8.2.0)\n",
      "Serving '/home/sina/env_prediction_project/Trajectron-plus-plus/experiments/pedestrians/models/models_06_Mar_2025_15_57_30_eth_vel_ar3/model_registrar-32.pt' at http://localhost:24050\n"
     ]
    },
    {
     "data": {
      "text/plain": [
       "('localhost', 24050)"
      ]
     },
     "execution_count": 12,
     "metadata": {},
     "output_type": "execute_result"
    }
   ],
   "source": [
    "!pip install netron\n",
    "import netron\n",
    "\n",
    "model_path = \"/home/sina/env_prediction_project/Trajectron-plus-plus/experiments/pedestrians/models/models_06_Mar_2025_15_57_30_eth_vel_ar3/model_registrar-32.pt\" \n",
    "netron.start(model_path)"
   ]
  },
  {
   "cell_type": "code",
   "execution_count": null,
   "metadata": {},
   "outputs": [],
   "source": []
  }
 ],
 "metadata": {
  "kernelspec": {
   "display_name": "Python 3.6 (Trajectron++)",
   "language": "python",
   "name": "trajectronpp"
  },
  "language_info": {
   "codemirror_mode": {
    "name": "ipython",
    "version": 3
   },
   "file_extension": ".py",
   "mimetype": "text/x-python",
   "name": "python",
   "nbconvert_exporter": "python",
   "pygments_lexer": "ipython3",
   "version": "3.6.13"
  }
 },
 "nbformat": 4,
 "nbformat_minor": 2
}
